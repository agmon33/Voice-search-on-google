{
 "cells": [
  {
   "cell_type": "code",
   "execution_count": null,
   "metadata": {},
   "outputs": [],
   "source": [
    "import speech_recognition as sr\n",
    "from pyautogui import press,typewrite\n",
    "from webbrowser import open\n",
    "from time import sleep\n",
    "\n",
    "while True:\n",
    "    with sr.Microphone() as source:\n",
    "    print('speak what to search on google?\\n')\n",
    "        try:\n",
    "												print('\nwaiting...')\n",
    "            audio=sr.Recognizer().listen(source)\n",
    "            sr.Recognizer().adjust_for_ambient_noise(source)\n",
    "            commend=sr.Recognizer().recognize_google(audio)\n",
    "            print("'"+commend+"'")\n,
    "            open('Chrome')\n",
    "            sleep(0.5)\n",
    "            typewrite(commend)\n",
    "            press('enter')\n",
    "            break\n",
    "        except:\n",
    "            print('Could not recognize\n\n\tTRY AGAIN!')\n,"
    "print('DONE')"
   ]
  },
  {
   "cell_type": "code",
   "execution_count": null,
   "metadata": {},
   "outputs": [],
   "source": []
  }
 ],
 "metadata": {
  "kernelspec": {
   "display_name": "Python 3",
   "language": "python",
   "name": "python3"
  },
  "language_info": {
   "codemirror_mode": {
    "name": "ipython",
    "version": 3
   },
   "file_extension": ".py",
   "mimetype": "text/x-python",
   "name": "python",
   "nbconvert_exporter": "python",
   "pygments_lexer": "ipython3",
   "version": "3.8.10"
  }
 },
 "nbformat": 4,
 "nbformat_minor": 4
}
